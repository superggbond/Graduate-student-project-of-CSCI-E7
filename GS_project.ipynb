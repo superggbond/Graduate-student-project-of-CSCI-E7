{
 "cells": [
  {
   "cell_type": "markdown",
   "metadata": {},
   "source": [
    "## Graduate Student Project\n",
    "#### -Primer Choosing, design and DNA sequence color annotation\n",
    "\n",
    "### Introduction\n",
    "In my graduate project, I am trying to create some little tools, which can be used in my real daily working\n",
    "scenario. As a research assistant in a gene editing lab, I do a lot of molecular bench work related to DNA. One of the most powerful and regular techniques we use daily is called PCR. We use PCR to amplify and confirm DNA sequences. And this graduate project will be closely related to DNA sequences and the technique PCR.\n",
    "\n",
    "### Backgroud Knowledge of PCR\n",
    "Polymerase chain reaction (PCR) is a technique used in molecular biology to amplify a single copy or a few copies of a segment of DNA. Generally speaking, DNA has two strands, one is called sense strand and the other is anti-sense strand, and the anti-sense strand has the reverse complementary sequence of sense strand. Each strand has an orientation, and we always write the sense sequence from left to right and name it as 5' to 3'. For anti-sense sequence we also write from left to right but name it as 3' to 5', so it is reversed and complementary.\n",
    "\n",
    "What is reverse complementary sequence?</p></p>\n",
    "We have met this several times in previous problem sets. As a quick reminder, there are four kinds of base in DNA strand, represented as 'A', 'T', 'C', 'G', and within the two strands of DNA, 'A' always pairs with 'T', and 'C' pairs with 'G', so 'A' and 'T' are complementary with each other, and the same for 'C' and 'G'. For instance, the reverse complementary sequence of 'ATTGCGGTACG' should be 'CGTACCGCAAT', both of them are in the orientation from 5' to 3'. \n",
    "\n",
    "For a successful PCR, we need two primers. The sense primer shares the same sequence with part of the sense strand, and binds to the anti-sense strand, so during the reaction, it can elongate in the orientation of 5' to 3'. And the anti-sense primer shares the same sequence with part of the anti-sense strand, and binds to the sense strand, so during the reaction, it also elongates in the orientation of 5' to 3', but its product is reverse complementary to the product of sense primer. As a result, two DNA product bind to each other as a final product. This process repeats a lot and amplifies the DNA product we want.\n",
    "\n",
    "### My Aims\n",
    "* In my lab, every time we design a new primer, we give it a index num and save in our primer list. Up to now we have already generated a list of over 200 primers. So my first aim, is with a new given sequence of DNA, I can search in my primer list, and find sense primers and anti-sense primers that are qualified for a possible PCR.\n",
    "* Secondly, if there is no qualified primers within our primer list, I'd like to design 5 new primer pairs for this PCR.\n",
    "* Lastly, for the final DNA sequence of PCR product, I am going to color the four different bases using the same color system as the sequencing results from the sequencing company.\n",
    "\n",
    "### Python Libraries\n",
    "I will use 'Biopython' for sequencing analysis, 'Primer3-py' for primer design and 'termcolor' for color annotations."
   ]
  },
  {
   "cell_type": "code",
   "execution_count": 1,
   "metadata": {
    "collapsed": true
   },
   "outputs": [],
   "source": [
    "import os\n",
    "import csv\n",
    "from Bio.Seq import Seq\n",
    "from Bio.Alphabet import IUPAC"
   ]
  },
  {
   "cell_type": "markdown",
   "metadata": {},
   "source": [
    "### Upload the targeting sequence\n",
    "\n",
    "Here we have a large fragment called TK vector plasmid, and we are going to use PCR to amplify partial sequence of it. The part we are going to amplify and send sequencing to confirm, is located between the 1520th and 2600th base pair of this plasmid."
   ]
  },
  {
   "cell_type": "code",
   "execution_count": 2,
   "metadata": {
    "collapsed": false
   },
   "outputs": [],
   "source": [
    "with open('TK_vector.txt', mode='r') as f:\n",
    "    TK_seq = f.read()\n",
    "    \n",
    "# full sequence of TK vector plasmid\n",
    "TK_seq = Seq(TK_seq,IUPAC.unambiguous_dna)\n",
    "# range of the sequence we'd like to amplify using PCR\n",
    "target_seq = TK_seq[1520:2600]\n"
   ]
  },
  {
   "cell_type": "markdown",
   "metadata": {},
   "source": [
    "### Dictionary of sense primers\n",
    "\n",
    "Create a dictionary of primers in 5' to 3' orientation, which will be served as sense primers in PCR reaction. The key is the index number, and the value is the sequence of a primer"
   ]
  },
  {
   "cell_type": "code",
   "execution_count": 10,
   "metadata": {
    "collapsed": false,
    "scrolled": false
   },
   "outputs": [],
   "source": [
    "with open('primer_list.csv', mode='r') as f:\n",
    "    primer_list = csv.reader(f)\n",
    "    primer_dict = {}\n",
    "    for row in primer_list:\n",
    "        primer_dict[int(row[0])] = Seq(row[1],IUPAC.unambiguous_dna)\n",
    "\n",
    "#primer_dict"
   ]
  },
  {
   "cell_type": "markdown",
   "metadata": {},
   "source": [
    "### Dictionary of anti-sense primers\n",
    "\n",
    "Create a dictionary of anti-sense primers in 5' to 3' orientation, which will be served as anti-sense primers in PCR reaction. The key is the index number, and the value is the sequence of a primer"
   ]
  },
  {
   "cell_type": "code",
   "execution_count": 11,
   "metadata": {
    "collapsed": false,
    "scrolled": false
   },
   "outputs": [],
   "source": [
    "# Here we only need to get the reverse-complementary sequence of each primer \n",
    "# in sense primer dictionary, and keep the same index number\n",
    "primer_rc_dict = {}\n",
    "for index in primer_dict.keys():\n",
    "    my_seq = primer_dict[index]\n",
    "    primer_rc_dict[int(index)] = my_seq.reverse_complement()\n",
    "    \n",
    "#primer_rc_dict"
   ]
  },
  {
   "cell_type": "markdown",
   "metadata": {},
   "source": [
    "### Create a function that can find all sense primers, which can amplify our target sequence in 5' to 3' orientation"
   ]
  },
  {
   "cell_type": "code",
   "execution_count": 5,
   "metadata": {
    "collapsed": false
   },
   "outputs": [
    {
     "data": {
      "text/plain": [
       "[(11, Seq('CACTGCATTCTAGTTGTGGTTTGTCCA', IUPACUnambiguousDNA()), 3418),\n",
       " (11, Seq('CACTGCATTCTAGTTGTGGTTTGTCCA', IUPACUnambiguousDNA()), 6459),\n",
       " (13, Seq('AACCTCCCCTTCTACGAGCG', IUPACUnambiguousDNA()), 6158),\n",
       " (114, Seq('CCTGTACGGCATGGACGAG', IUPACUnambiguousDNA()), 2425),\n",
       " (137, Seq('GAGTTCATGCGCTTCAAGGTG', IUPACUnambiguousDNA()), 1055),\n",
       " (137, Seq('GAGTTCATGCGCTTCAAGGTG', IUPACUnambiguousDNA()), 1781),\n",
       " (138, Seq('GTAGTGTGTGCCCGTCTGTT', IUPACUnambiguousDNA()), 3235),\n",
       " (140, Seq('GGCAGCTCCGGCACCGCCTC', IUPACUnambiguousDNA()), 1730),\n",
       " (199, Seq('GAAGCTATCTGGTCTCCCTT', IUPACUnambiguousDNA()), 6547),\n",
       " (223, Seq('ATCCAGGACACCAGCACGCA', IUPACUnambiguousDNA()), 4479),\n",
       " (224, Seq('CTACACTGCCCGGGACAAAT', IUPACUnambiguousDNA()), 5055),\n",
       " (231, Seq('TACGAAGTTATATTCAAAAATCTAGACAGC', IUPACUnambiguousDNA()), 3579),\n",
       " (233, Seq('CGATATCGCCACCATGGCATCTTATCCAGGAC', IUPACUnambiguousDNA()), 4456),\n",
       " (235, Seq('TGAGGCGAACGGCGCTGGAGAGGGCAGAG', IUPACUnambiguousDNA()), 5587)]"
      ]
     },
     "execution_count": 5,
     "metadata": {},
     "output_type": "execute_result"
    }
   ],
   "source": [
    "def search_sense(target):\n",
    "    \"\"\"\n",
    "    find out all the primers that can bind to the target seq.\n",
    "    in sense orientation, and for each qualified primer, it will\n",
    "    give out the index number of the primer, the seq. of the primer \n",
    "    and where the binding starts\n",
    "    \"\"\"\n",
    "    sense_index = []\n",
    "    for index in primer_dict.keys():\n",
    "        if primer_dict[index] in target:\n",
    "            sense_index.append(index)\n",
    "            \n",
    "    sense_result = []\n",
    "    for index in sense_index:\n",
    "        aseq = primer_dict[index]\n",
    "        for i in range(0, len(target)-len(aseq)):\n",
    "            if aseq == target[i:i+len(aseq)]:\n",
    "                sense_result.append((index, primer_dict[index], i))\n",
    "    \n",
    "    return sense_result\n",
    "search_sense(TK_seq)"
   ]
  },
  {
   "cell_type": "markdown",
   "metadata": {
    "collapsed": false
   },
   "source": [
    "### Create a function that can find all anti-sense primers, which can bind to our target sequence in a reverse complemetary format"
   ]
  },
  {
   "cell_type": "code",
   "execution_count": 6,
   "metadata": {
    "collapsed": false
   },
   "outputs": [
    {
     "data": {
      "text/plain": [
       "[(67, Seq('AGCAACAGATGGAAGGCCTC', IUPACUnambiguousDNA()), 5995),\n",
       " (159, Seq('GATGTCGAAGAGAATCCCGG', IUPACUnambiguousDNA()), 1002),\n",
       " (200, Seq('AGGGCGAGGAGGTCATCAAA', IUPACUnambiguousDNA()), 1054),\n",
       " (201, Seq('CATGGCACCGGCAGCACCG', IUPACUnambiguousDNA()), 1724),\n",
       " (222, Seq('GTGGTGATGACATCTGCCCA', IUPACUnambiguousDNA()), 4842),\n",
       " (232, Seq('GCCTACGATATCGCCACCATGGCATCTTATC', IUPACUnambiguousDNA()), 4481),\n",
       " (234,\n",
       "  Seq('CGAGATGGGTGAGGCGAACGGCGCTGGAGAGGGCAG', IUPACUnambiguousDNA()),\n",
       "  5613),\n",
       " (236, Seq('GCTTGGCGTAATCATGGTCA', IUPACUnambiguousDNA()), 7116)]"
      ]
     },
     "execution_count": 6,
     "metadata": {},
     "output_type": "execute_result"
    }
   ],
   "source": [
    "def search_anti(target):\n",
    "    \"\"\"\n",
    "    find out all the primers that can bind to the target seq.\n",
    "    in anti-sense orientation, and for each qualified primer, it will\n",
    "    give out the index number of the primer, the seq. of the primer \n",
    "    and where the binding ends\n",
    "    \"\"\"\n",
    "    anti_index = []\n",
    "    for index in primer_rc_dict.keys():\n",
    "        if primer_rc_dict[index] in target:\n",
    "            anti_index.append(index)\n",
    "            \n",
    "    anti_result = []\n",
    "    for index in anti_index:\n",
    "        aseq = primer_rc_dict[index]\n",
    "        for i in range(0, len(target)-len(aseq)):\n",
    "            if aseq == target[i:i+len(aseq)]:\n",
    "                anti_result.append((index, primer_rc_dict[index], i+len(aseq)-1))\n",
    "    \n",
    "    return anti_result\n",
    "search_anti(TK_seq)"
   ]
  },
  {
   "cell_type": "markdown",
   "metadata": {},
   "source": [
    "### Find qualified primer pairs\n",
    "\n",
    "As I mentioned above, the part we are going to amplify and send sequencing to confirm, is located between the 1520th and 2600th base pair of this plasmid. So we are going to find a sense primer with a start location ahead of 1520 and an anti-sense primer with an end location behind 2600."
   ]
  },
  {
   "cell_type": "code",
   "execution_count": 7,
   "metadata": {
    "collapsed": false
   },
   "outputs": [
    {
     "name": "stdout",
     "output_type": "stream",
     "text": [
      "Primer(s) can be used as sense:\n",
      "(137, Seq('GAGTTCATGCGCTTCAAGGTG', IUPACUnambiguousDNA()), 1055)\n",
      "Primer(s) can be used as anti-sense:\n",
      "(67, Seq('AGCAACAGATGGAAGGCCTC', IUPACUnambiguousDNA()), 5995)\n",
      "(222, Seq('GTGGTGATGACATCTGCCCA', IUPACUnambiguousDNA()), 4842)\n",
      "(232, Seq('GCCTACGATATCGCCACCATGGCATCTTATC', IUPACUnambiguousDNA()), 4481)\n",
      "(234, Seq('CGAGATGGGTGAGGCGAACGGCGCTGGAGAGGGCAG', IUPACUnambiguousDNA()), 5613)\n",
      "(236, Seq('GCTTGGCGTAATCATGGTCA', IUPACUnambiguousDNA()), 7116)\n"
     ]
    }
   ],
   "source": [
    "print(\"Primer(s) can be used as sense:\")\n",
    "for item in search_sense(TK_seq):\n",
    "    if item[2] <= 1520:\n",
    "        print(item)\n",
    "        \n",
    "print(\"Primer(s) can be used as anti-sense:\")\n",
    "for item in search_anti(TK_seq):\n",
    "    if item[2] >= 2600:\n",
    "        print(item)"
   ]
  },
  {
   "cell_type": "markdown",
   "metadata": {},
   "source": [
    "### Design new primer pairs\n",
    "\n",
    "Use a library called Primer3-py to design primers."
   ]
  },
  {
   "cell_type": "code",
   "execution_count": 8,
   "metadata": {
    "collapsed": false,
    "scrolled": true
   },
   "outputs": [
    {
     "name": "stdout",
     "output_type": "stream",
     "text": [
      "1 - (15, 20) GCAGAAGAAGACCATGGGCT (1246, 20) CGGGCCACAACTCCTCATAA 1232\n",
      "2 - (14, 20) TGCAGAAGAAGACCATGGGC (1246, 20) CGGGCCACAACTCCTCATAA 1233\n",
      "3 - (4, 20) GGCCCCGTAATGCAGAAGAA (1246, 20) CGGGCCACAACTCCTCATAA 1243\n",
      "4 - (4, 20) GGCCCCGTAATGCAGAAGAA (1189, 20) TGAAAGCCATACGGGAAGCA 1186\n",
      "5 - (15, 20) GCAGAAGAAGACCATGGGCT (1247, 20) ACGGGCCACAACTCCTCATA 1233\n"
     ]
    }
   ],
   "source": [
    "with open('TK_vector.txt', mode='r') as f:\n",
    "    TK_seq_new = f.read()\n",
    "    \n",
    "import primer3\n",
    "input_seq = TK_seq_new[1420:2700]\n",
    "\n",
    "primer = (primer3.bindings.designPrimers(\n",
    "            {\n",
    "                'SEQUENCE_ID': 'TK',\n",
    "                'SEQUENCE_TEMPLATE': input_seq,\n",
    "                'SEQUENCE_EXCLUDED_REGION': [0, 0] \n",
    "            },\n",
    "            {\n",
    "                'PRIMER_TASK': 'generic',\n",
    "                'PRIMER_PICK_LEFT_PRIMER': 1,\n",
    "                'PRIMER_PICK_INTERNAL_OLIGO': 0,\n",
    "                'PRIMER_PICK_RIGHT_PRIMER': 1,\n",
    "                'PRIMER_NUM_RETURN': 5,\n",
    "                'PRIMER_OPT_SIZE': 20,\n",
    "                'PRIMER_MIN_SIZE': 18,\n",
    "                'PRIMER_MAX_SIZE': 25,\n",
    "                'PRIMER_OPT_TM': 60.0,\n",
    "                'PRIMER_MIN_TM': 57.0,\n",
    "                'PRIMER_MAX_TM': 63.0,\n",
    "                'PRIMER_MIN_GC': 20.0,\n",
    "                'PRIMER_MAX_GC': 80.0,\n",
    "                'PRIMER_MAX_POLY_X': 5,\n",
    "                'PRIMER_SALT_MONOVALENT': 50.0,\n",
    "                'PRIMER_DNA_CONC': 50.0,\n",
    "                'PRIMER_MAX_NS_ACCEPTED': 0,\n",
    "                'PRIMER_MAX_SELF_ANY': 12,\n",
    "                'PRIMER_MAX_SELF_END': 8,\n",
    "                'PRIMER_PAIR_MAX_COMPL_ANY': 12,\n",
    "                'PRIMER_PAIR_MAX_COMPL_END': 8,\n",
    "                'PRIMER_PRODUCT_SIZE_RANGE': [[len(input_seq)-100,len(input_seq)]],}))\n",
    "\n",
    "#print(primer)\n",
    "\n",
    "for i in range(0,5):\n",
    "    print (i+1,\"-\", primer['PRIMER_LEFT_{}'.format(i)], primer['PRIMER_LEFT_{}_SEQUENCE'.format(i)],\n",
    "           primer['PRIMER_RIGHT_{}'.format(i)], primer['PRIMER_RIGHT_{}_SEQUENCE'.format(i)],\n",
    "          primer['PRIMER_PAIR_{}_PRODUCT_SIZE'.format(i)])\n"
   ]
  },
  {
   "cell_type": "markdown",
   "metadata": {},
   "source": [
    "### Color DNA sequences\n",
    "\n",
    "Create a function to color a given DNA sequence using a library called termcolor."
   ]
  },
  {
   "cell_type": "code",
   "execution_count": 9,
   "metadata": {
    "collapsed": false
   },
   "outputs": [
    {
     "name": "stdout",
     "output_type": "stream",
     "text": [
      "\u001b[33mG\u001b[0m\u001b[34mC\u001b[0m\u001b[31mA\u001b[0m\u001b[33mG\u001b[0m\u001b[31mA\u001b[0m\u001b[31mA\u001b[0m\u001b[33mG\u001b[0m\u001b[31mA\u001b[0m\u001b[31mA\u001b[0m\u001b[33mG\u001b[0m\u001b[31mA\u001b[0m\u001b[34mC\u001b[0m\u001b[34mC\u001b[0m\u001b[31mA\u001b[0m\u001b[32mT\u001b[0m\u001b[33mG\u001b[0m\u001b[33mG\u001b[0m\u001b[33mG\u001b[0m\u001b[34mC\u001b[0m\u001b[32mT\u001b[0m\u001b[33mG\u001b[0m\u001b[33mG\u001b[0m\u001b[33mG\u001b[0m\u001b[31mA\u001b[0m\u001b[33mG\u001b[0m\u001b[33mG\u001b[0m\u001b[34mC\u001b[0m\u001b[34mC\u001b[0m\u001b[32mT\u001b[0m\u001b[34mC\u001b[0m\u001b[34mC\u001b[0m\u001b[31mA\u001b[0m\u001b[34mC\u001b[0m\u001b[34mC\u001b[0m\u001b[33mG\u001b[0m\u001b[31mA\u001b[0m\u001b[33mG\u001b[0m\u001b[34mC\u001b[0m\u001b[33mG\u001b[0m\u001b[34mC\u001b[0m\u001b[34mC\u001b[0m\u001b[32mT\u001b[0m\u001b[33mG\u001b[0m\u001b[32mT\u001b[0m\u001b[31mA\u001b[0m\u001b[34mC\u001b[0m\u001b[34mC\u001b[0m\u001b[34mC\u001b[0m\u001b[34mC\u001b[0m\u001b[34mC\u001b[0m\u001b[33mG\u001b[0m\u001b[34mC\u001b[0m\u001b[33mG\u001b[0m\u001b[31mA\u001b[0m\u001b[34mC\u001b[0m\u001b[33mG\u001b[0m\u001b[33mG\u001b[0m\u001b[34mC\u001b[0m\u001b[33mG\u001b[0m\u001b[32mT\u001b[0m\u001b[33mG\u001b[0m\u001b[34mC\u001b[0m\u001b[32mT\u001b[0m\u001b[33mG\u001b[0m\u001b[31mA\u001b[0m\u001b[31mA\u001b[0m\u001b[33mG\u001b[0m\u001b[33mG\u001b[0m\u001b[33mG\u001b[0m\u001b[34mC\u001b[0m\u001b[33mG\u001b[0m\u001b[31mA\u001b[0m\u001b[33mG\u001b[0m\u001b[31mA\u001b[0m\u001b[32mT\u001b[0m\u001b[34mC\u001b[0m\u001b[34mC\u001b[0m\u001b[31mA\u001b[0m\u001b[34mC\u001b[0m\u001b[34mC\u001b[0m\u001b[31mA\u001b[0m\u001b[33mG\u001b[0m\u001b[33mG\u001b[0m\u001b[34mC\u001b[0m\u001b[34mC\u001b[0m\u001b[34mC\u001b[0m\u001b[32mT\u001b[0m\u001b[33mG\u001b[0m\u001b[31mA\u001b[0m\u001b[31mA\u001b[0m\u001b[33mG\u001b[0m\u001b[34mC\u001b[0m\u001b[32mT\u001b[0m\u001b[33mG\u001b[0m\u001b[31mA\u001b[0m\u001b[31mA\u001b[0m\u001b[33mG\u001b[0m\u001b[33mG\u001b[0m\u001b[31mA\u001b[0m\u001b[34mC\u001b[0m\u001b[33mG\u001b[0m\u001b[33mG\u001b[0m\u001b[34mC\u001b[0m\u001b[33mG\u001b[0m\u001b[33mG\u001b[0m\u001b[34mC\u001b[0m\u001b[34mC\u001b[0m\u001b[31mA\u001b[0m\u001b[34mC\u001b[0m\u001b[32mT\u001b[0m\u001b[31mA\u001b[0m\u001b[34mC\u001b[0m\u001b[34mC\u001b[0m\u001b[32mT\u001b[0m\u001b[33mG\u001b[0m\u001b[33mG\u001b[0m\u001b[32mT\u001b[0m\u001b[33mG\u001b[0m\u001b[33mG\u001b[0m\u001b[31mA\u001b[0m\u001b[33mG\u001b[0m\u001b[32mT\u001b[0m\u001b[32mT\u001b[0m\u001b[34mC\u001b[0m\u001b[31mA\u001b[0m\u001b[31mA\u001b[0m\u001b[33mG\u001b[0m\u001b[31mA\u001b[0m\u001b[34mC\u001b[0m\u001b[34mC\u001b[0m\u001b[31mA\u001b[0m\u001b[32mT\u001b[0m\u001b[34mC\u001b[0m\u001b[32mT\u001b[0m\u001b[31mA\u001b[0m\u001b[34mC\u001b[0m\u001b[31mA\u001b[0m\u001b[32mT\u001b[0m\u001b[33mG\u001b[0m\u001b[33mG\u001b[0m\u001b[34mC\u001b[0m\u001b[34mC\u001b[0m\u001b[31mA\u001b[0m\u001b[31mA\u001b[0m\u001b[33mG\u001b[0m\u001b[31mA\u001b[0m\u001b[31mA\u001b[0m\u001b[33mG\u001b[0m\u001b[34mC\u001b[0m\u001b[34mC\u001b[0m\u001b[34mC\u001b[0m\u001b[33mG\u001b[0m\u001b[32mT\u001b[0m\u001b[33mG\u001b[0m\u001b[34mC\u001b[0m\u001b[31mA\u001b[0m\u001b[31mA\u001b[0m\u001b[34mC\u001b[0m\u001b[32mT\u001b[0m\u001b[33mG\u001b[0m\u001b[34mC\u001b[0m\u001b[34mC\u001b[0m\u001b[34mC\u001b[0m\u001b[33mG\u001b[0m\u001b[33mG\u001b[0m\u001b[34mC\u001b[0m\u001b[32mT\u001b[0m\u001b[31mA\u001b[0m\u001b[34mC\u001b[0m\u001b[32mT\u001b[0m\u001b[31mA\u001b[0m\u001b[34mC\u001b[0m\u001b[32mT\u001b[0m\u001b[31mA\u001b[0m\u001b[34mC\u001b[0m\u001b[33mG\u001b[0m\u001b[32mT\u001b[0m\u001b[33mG\u001b[0m\u001b[33mG\u001b[0m\u001b[31mA\u001b[0m\u001b[34mC\u001b[0m\u001b[31mA\u001b[0m\u001b[34mC\u001b[0m\u001b[34mC\u001b[0m\u001b[31mA\u001b[0m\u001b[31mA\u001b[0m\u001b[33mG\u001b[0m\u001b[34mC\u001b[0m\u001b[32mT\u001b[0m\u001b[33mG\u001b[0m\u001b[33mG\u001b[0m\u001b[31mA\u001b[0m\u001b[34mC\u001b[0m\u001b[31mA\u001b[0m\u001b[32mT\u001b[0m\u001b[34mC\u001b[0m\u001b[31mA\u001b[0m\u001b[34mC\u001b[0m\u001b[34mC\u001b[0m\u001b[32mT\u001b[0m\u001b[34mC\u001b[0m\u001b[34mC\u001b[0m\u001b[34mC\u001b[0m\u001b[31mA\u001b[0m\u001b[34mC\u001b[0m\u001b[31mA\u001b[0m\u001b[31mA\u001b[0m\u001b[34mC\u001b[0m\u001b[33mG\u001b[0m\u001b[31mA\u001b[0m\u001b[33mG\u001b[0m\u001b[33mG\u001b[0m\u001b[31mA\u001b[0m\u001b[34mC\u001b[0m\u001b[32mT\u001b[0m\u001b[31mA\u001b[0m\u001b[34mC\u001b[0m\u001b[31mA\u001b[0m\u001b[34mC\u001b[0m\u001b[34mC\u001b[0m\u001b[31mA\u001b[0m\u001b[32mT\u001b[0m\u001b[34mC\u001b[0m\u001b[33mG\u001b[0m\u001b[32mT\u001b[0m\u001b[33mG\u001b[0m\u001b[33mG\u001b[0m\u001b[31mA\u001b[0m\u001b[31mA\u001b[0m\u001b[34mC\u001b[0m\u001b[31mA\u001b[0m\u001b[33mG\u001b[0m\u001b[32mT\u001b[0m\u001b[31mA\u001b[0m\u001b[34mC\u001b[0m\u001b[33mG\u001b[0m\u001b[31mA\u001b[0m\u001b[33mG\u001b[0m\u001b[34mC\u001b[0m\u001b[33mG\u001b[0m\u001b[34mC\u001b[0m\u001b[32mT\u001b[0m\u001b[34mC\u001b[0m\u001b[34mC\u001b[0m\u001b[33mG\u001b[0m\u001b[31mA\u001b[0m\u001b[33mG\u001b[0m\u001b[33mG\u001b[0m\u001b[33mG\u001b[0m\u001b[34mC\u001b[0m\u001b[34mC\u001b[0m\u001b[33mG\u001b[0m\u001b[34mC\u001b[0m\u001b[34mC\u001b[0m\u001b[31mA\u001b[0m\u001b[34mC\u001b[0m\u001b[34mC\u001b[0m\u001b[31mA\u001b[0m\u001b[34mC\u001b[0m\u001b[34mC\u001b[0m\u001b[32mT\u001b[0m\u001b[33mG\u001b[0m\u001b[32mT\u001b[0m\u001b[32mT\u001b[0m\u001b[34mC\u001b[0m\u001b[34mC\u001b[0m\u001b[32mT\u001b[0m\u001b[33mG\u001b[0m\u001b[33mG\u001b[0m\u001b[33mG\u001b[0m\u001b[33mG\u001b[0m\u001b[34mC\u001b[0m\u001b[31mA\u001b[0m\u001b[32mT\u001b[0m\u001b[33mG\u001b[0m\u001b[33mG\u001b[0m\u001b[34mC\u001b[0m\u001b[31mA\u001b[0m\u001b[34mC\u001b[0m\u001b[34mC\u001b[0m\u001b[33mG\u001b[0m\u001b[33mG\u001b[0m\u001b[34mC\u001b[0m\u001b[31mA\u001b[0m\u001b[33mG\u001b[0m\u001b[34mC\u001b[0m\u001b[31mA\u001b[0m\u001b[34mC\u001b[0m\u001b[34mC\u001b[0m\u001b[33mG\u001b[0m\u001b[33mG\u001b[0m\u001b[34mC\u001b[0m\u001b[31mA\u001b[0m\u001b[33mG\u001b[0m\u001b[34mC\u001b[0m\u001b[33mG\u001b[0m\u001b[33mG\u001b[0m\u001b[34mC\u001b[0m\u001b[31mA\u001b[0m\u001b[33mG\u001b[0m\u001b[34mC\u001b[0m\u001b[32mT\u001b[0m\u001b[34mC\u001b[0m\u001b[34mC\u001b[0m\u001b[33mG\u001b[0m\u001b[33mG\u001b[0m\u001b[34mC\u001b[0m\u001b[31mA\u001b[0m\u001b[34mC\u001b[0m\u001b[34mC\u001b[0m\u001b[33mG\u001b[0m\u001b[34mC\u001b[0m\u001b[34mC\u001b[0m\u001b[32mT\u001b[0m\u001b[34mC\u001b[0m\u001b[34mC\u001b[0m\u001b[32mT\u001b[0m\u001b[34mC\u001b[0m\u001b[34mC\u001b[0m\u001b[33mG\u001b[0m\u001b[31mA\u001b[0m\u001b[33mG\u001b[0m\u001b[33mG\u001b[0m\u001b[31mA\u001b[0m\u001b[34mC\u001b[0m\u001b[31mA\u001b[0m\u001b[31mA\u001b[0m\u001b[34mC\u001b[0m\u001b[31mA\u001b[0m\u001b[31mA\u001b[0m\u001b[34mC\u001b[0m\u001b[31mA\u001b[0m\u001b[32mT\u001b[0m\u001b[33mG\u001b[0m\u001b[33mG\u001b[0m\u001b[34mC\u001b[0m\u001b[34mC\u001b[0m\u001b[33mG\u001b[0m\u001b[32mT\u001b[0m\u001b[34mC\u001b[0m\u001b[31mA\u001b[0m\u001b[32mT\u001b[0m\u001b[34mC\u001b[0m\u001b[31mA\u001b[0m\u001b[31mA\u001b[0m\u001b[31mA\u001b[0m\u001b[33mG\u001b[0m\u001b[31mA\u001b[0m\u001b[33mG\u001b[0m\u001b[32mT\u001b[0m\u001b[32mT\u001b[0m\u001b[34mC\u001b[0m\u001b[31mA\u001b[0m\u001b[32mT\u001b[0m\u001b[33mG\u001b[0m\u001b[34mC\u001b[0m\u001b[33mG\u001b[0m\u001b[34mC\u001b[0m\u001b[32mT\u001b[0m\u001b[32mT\u001b[0m\u001b[34mC\u001b[0m\u001b[31mA\u001b[0m\u001b[31mA\u001b[0m\u001b[33mG\u001b[0m\u001b[33mG\u001b[0m\u001b[32mT\u001b[0m\u001b[33mG\u001b[0m\u001b[34mC\u001b[0m\u001b[33mG\u001b[0m\u001b[34mC\u001b[0m\u001b[31mA\u001b[0m\u001b[32mT\u001b[0m\u001b[33mG\u001b[0m\u001b[33mG\u001b[0m\u001b[31mA\u001b[0m\u001b[33mG\u001b[0m\u001b[33mG\u001b[0m\u001b[33mG\u001b[0m\u001b[34mC\u001b[0m\u001b[32mT\u001b[0m\u001b[34mC\u001b[0m\u001b[34mC\u001b[0m\u001b[31mA\u001b[0m\u001b[32mT\u001b[0m\u001b[33mG\u001b[0m\u001b[31mA\u001b[0m\u001b[31mA\u001b[0m\u001b[34mC\u001b[0m\u001b[33mG\u001b[0m\u001b[33mG\u001b[0m\u001b[34mC\u001b[0m\u001b[34mC\u001b[0m\u001b[31mA\u001b[0m\u001b[34mC\u001b[0m\u001b[33mG\u001b[0m\u001b[31mA\u001b[0m\u001b[33mG\u001b[0m\u001b[32mT\u001b[0m\u001b[32mT\u001b[0m\u001b[34mC\u001b[0m\u001b[33mG\u001b[0m\u001b[31mA\u001b[0m\u001b[33mG\u001b[0m\u001b[31mA\u001b[0m\u001b[32mT\u001b[0m\u001b[34mC\u001b[0m\u001b[33mG\u001b[0m\u001b[31mA\u001b[0m\u001b[33mG\u001b[0m\u001b[33mG\u001b[0m\u001b[33mG\u001b[0m\u001b[34mC\u001b[0m\u001b[33mG\u001b[0m\u001b[31mA\u001b[0m\u001b[33mG\u001b[0m\u001b[33mG\u001b[0m\u001b[33mG\u001b[0m\u001b[34mC\u001b[0m\u001b[33mG\u001b[0m\u001b[31mA\u001b[0m\u001b[33mG\u001b[0m\u001b[33mG\u001b[0m\u001b[33mG\u001b[0m\u001b[34mC\u001b[0m\u001b[34mC\u001b[0m\u001b[33mG\u001b[0m\u001b[34mC\u001b[0m\u001b[34mC\u001b[0m\u001b[34mC\u001b[0m\u001b[34mC\u001b[0m\u001b[32mT\u001b[0m\u001b[31mA\u001b[0m\u001b[34mC\u001b[0m\u001b[33mG\u001b[0m\u001b[31mA\u001b[0m\u001b[33mG\u001b[0m\u001b[33mG\u001b[0m\u001b[33mG\u001b[0m\u001b[34mC\u001b[0m\u001b[31mA\u001b[0m\u001b[34mC\u001b[0m\u001b[34mC\u001b[0m\u001b[34mC\u001b[0m\u001b[31mA\u001b[0m\u001b[33mG\u001b[0m\u001b[31mA\u001b[0m\u001b[34mC\u001b[0m\u001b[34mC\u001b[0m\u001b[33mG\u001b[0m\u001b[34mC\u001b[0m\u001b[34mC\u001b[0m\u001b[31mA\u001b[0m\u001b[31mA\u001b[0m\u001b[33mG\u001b[0m\u001b[34mC\u001b[0m\u001b[32mT\u001b[0m\u001b[33mG\u001b[0m\u001b[31mA\u001b[0m\u001b[31mA\u001b[0m\u001b[33mG\u001b[0m\u001b[33mG\u001b[0m\u001b[32mT\u001b[0m\u001b[33mG\u001b[0m\u001b[31mA\u001b[0m\u001b[34mC\u001b[0m\u001b[34mC\u001b[0m\u001b[31mA\u001b[0m\u001b[31mA\u001b[0m\u001b[33mG\u001b[0m\u001b[33mG\u001b[0m\u001b[33mG\u001b[0m\u001b[34mC\u001b[0m\u001b[33mG\u001b[0m\u001b[33mG\u001b[0m\u001b[34mC\u001b[0m\u001b[34mC\u001b[0m\u001b[34mC\u001b[0m\u001b[34mC\u001b[0m\u001b[34mC\u001b[0m\u001b[32mT\u001b[0m\u001b[33mG\u001b[0m\u001b[34mC\u001b[0m\u001b[34mC\u001b[0m\u001b[34mC\u001b[0m\u001b[32mT\u001b[0m\u001b[32mT\u001b[0m\u001b[34mC\u001b[0m\u001b[33mG\u001b[0m\u001b[34mC\u001b[0m\u001b[34mC\u001b[0m\u001b[32mT\u001b[0m\u001b[33mG\u001b[0m\u001b[33mG\u001b[0m\u001b[33mG\u001b[0m\u001b[31mA\u001b[0m\u001b[34mC\u001b[0m\u001b[31mA\u001b[0m\u001b[32mT\u001b[0m\u001b[34mC\u001b[0m\u001b[34mC\u001b[0m\u001b[32mT\u001b[0m\u001b[33mG\u001b[0m\u001b[32mT\u001b[0m\u001b[34mC\u001b[0m\u001b[34mC\u001b[0m\u001b[34mC\u001b[0m\u001b[34mC\u001b[0m\u001b[34mC\u001b[0m\u001b[34mC\u001b[0m\u001b[31mA\u001b[0m\u001b[33mG\u001b[0m\u001b[32mT\u001b[0m\u001b[32mT\u001b[0m\u001b[34mC\u001b[0m\u001b[31mA\u001b[0m\u001b[32mT\u001b[0m\u001b[33mG\u001b[0m\u001b[32mT\u001b[0m\u001b[31mA\u001b[0m\u001b[34mC\u001b[0m\u001b[33mG\u001b[0m\u001b[33mG\u001b[0m\u001b[34mC\u001b[0m\u001b[32mT\u001b[0m\u001b[34mC\u001b[0m\u001b[34mC\u001b[0m\u001b[31mA\u001b[0m\u001b[31mA\u001b[0m\u001b[33mG\u001b[0m\u001b[33mG\u001b[0m\u001b[34mC\u001b[0m\u001b[33mG\u001b[0m\u001b[32mT\u001b[0m\u001b[31mA\u001b[0m\u001b[34mC\u001b[0m\u001b[33mG\u001b[0m\u001b[32mT\u001b[0m\u001b[33mG\u001b[0m\u001b[31mA\u001b[0m\u001b[31mA\u001b[0m\u001b[33mG\u001b[0m\u001b[34mC\u001b[0m\u001b[31mA\u001b[0m\u001b[34mC\u001b[0m\u001b[34mC\u001b[0m\u001b[34mC\u001b[0m\u001b[34mC\u001b[0m\u001b[33mG\u001b[0m\u001b[34mC\u001b[0m\u001b[34mC\u001b[0m\u001b[33mG\u001b[0m\u001b[31mA\u001b[0m\u001b[34mC\u001b[0m\u001b[31mA\u001b[0m\u001b[32mT\u001b[0m\u001b[34mC\u001b[0m\u001b[34mC\u001b[0m\u001b[34mC\u001b[0m\u001b[34mC\u001b[0m\u001b[33mG\u001b[0m\u001b[31mA\u001b[0m\u001b[32mT\u001b[0m\u001b[32mT\u001b[0m\u001b[31mA\u001b[0m\u001b[34mC\u001b[0m\u001b[31mA\u001b[0m\u001b[31mA\u001b[0m\u001b[33mG\u001b[0m\u001b[31mA\u001b[0m\u001b[31mA\u001b[0m\u001b[33mG\u001b[0m\u001b[34mC\u001b[0m\u001b[32mT\u001b[0m\u001b[33mG\u001b[0m\u001b[32mT\u001b[0m\u001b[34mC\u001b[0m\u001b[34mC\u001b[0m\u001b[32mT\u001b[0m\u001b[32mT\u001b[0m\u001b[34mC\u001b[0m\u001b[34mC\u001b[0m\u001b[34mC\u001b[0m\u001b[34mC\u001b[0m\u001b[33mG\u001b[0m\u001b[31mA\u001b[0m\u001b[33mG\u001b[0m\u001b[33mG\u001b[0m\u001b[33mG\u001b[0m\u001b[34mC\u001b[0m\u001b[32mT\u001b[0m\u001b[32mT\u001b[0m\u001b[34mC\u001b[0m\u001b[31mA\u001b[0m\u001b[31mA\u001b[0m\u001b[33mG\u001b[0m\u001b[32mT\u001b[0m\u001b[33mG\u001b[0m\u001b[33mG\u001b[0m\u001b[33mG\u001b[0m\u001b[31mA\u001b[0m\u001b[33mG\u001b[0m\u001b[34mC\u001b[0m\u001b[33mG\u001b[0m\u001b[34mC\u001b[0m\u001b[33mG\u001b[0m\u001b[32mT\u001b[0m\u001b[33mG\u001b[0m\u001b[31mA\u001b[0m\u001b[32mT\u001b[0m\u001b[33mG\u001b[0m\u001b[31mA\u001b[0m\u001b[31mA\u001b[0m\u001b[34mC\u001b[0m\u001b[32mT\u001b[0m\u001b[32mT\u001b[0m\u001b[34mC\u001b[0m\u001b[33mG\u001b[0m\u001b[31mA\u001b[0m\u001b[33mG\u001b[0m\u001b[33mG\u001b[0m\u001b[31mA\u001b[0m\u001b[34mC\u001b[0m\u001b[33mG\u001b[0m\u001b[33mG\u001b[0m\u001b[34mC\u001b[0m\u001b[33mG\u001b[0m\u001b[33mG\u001b[0m\u001b[32mT\u001b[0m\u001b[34mC\u001b[0m\u001b[32mT\u001b[0m\u001b[33mG\u001b[0m\u001b[33mG\u001b[0m\u001b[32mT\u001b[0m\u001b[33mG\u001b[0m\u001b[31mA\u001b[0m\u001b[34mC\u001b[0m\u001b[34mC\u001b[0m\u001b[33mG\u001b[0m\u001b[32mT\u001b[0m\u001b[33mG\u001b[0m\u001b[31mA\u001b[0m\u001b[34mC\u001b[0m\u001b[34mC\u001b[0m\u001b[34mC\u001b[0m\u001b[31mA\u001b[0m\u001b[33mG\u001b[0m\u001b[33mG\u001b[0m\u001b[31mA\u001b[0m\u001b[34mC\u001b[0m\u001b[32mT\u001b[0m\u001b[34mC\u001b[0m\u001b[34mC\u001b[0m\u001b[32mT\u001b[0m\u001b[34mC\u001b[0m\u001b[34mC\u001b[0m\u001b[34mC\u001b[0m\u001b[32mT\u001b[0m\u001b[33mG\u001b[0m\u001b[34mC\u001b[0m\u001b[31mA\u001b[0m\u001b[33mG\u001b[0m\u001b[33mG\u001b[0m\u001b[31mA\u001b[0m\u001b[34mC\u001b[0m\u001b[33mG\u001b[0m\u001b[33mG\u001b[0m\u001b[34mC\u001b[0m\u001b[31mA\u001b[0m\u001b[34mC\u001b[0m\u001b[33mG\u001b[0m\u001b[34mC\u001b[0m\u001b[32mT\u001b[0m\u001b[33mG\u001b[0m\u001b[31mA\u001b[0m\u001b[32mT\u001b[0m\u001b[34mC\u001b[0m\u001b[32mT\u001b[0m\u001b[31mA\u001b[0m\u001b[34mC\u001b[0m\u001b[31mA\u001b[0m\u001b[31mA\u001b[0m\u001b[33mG\u001b[0m\u001b[33mG\u001b[0m\u001b[32mT\u001b[0m\u001b[33mG\u001b[0m\u001b[31mA\u001b[0m\u001b[31mA\u001b[0m\u001b[33mG\u001b[0m\u001b[31mA\u001b[0m\u001b[32mT\u001b[0m\u001b[33mG\u001b[0m\u001b[34mC\u001b[0m\u001b[33mG\u001b[0m\u001b[34mC\u001b[0m\u001b[33mG\u001b[0m\u001b[33mG\u001b[0m\u001b[34mC\u001b[0m\u001b[31mA\u001b[0m\u001b[34mC\u001b[0m\u001b[34mC\u001b[0m\u001b[31mA\u001b[0m\u001b[31mA\u001b[0m\u001b[34mC\u001b[0m\u001b[32mT\u001b[0m\u001b[32mT\u001b[0m\u001b[34mC\u001b[0m\u001b[34mC\u001b[0m\u001b[34mC\u001b[0m\u001b[34mC\u001b[0m\u001b[34mC\u001b[0m\u001b[34mC\u001b[0m\u001b[34mC\u001b[0m\u001b[33mG\u001b[0m\u001b[31mA\u001b[0m\u001b[34mC\u001b[0m\u001b[33mG\u001b[0m\u001b[33mG\u001b[0m\u001b[34mC\u001b[0m\u001b[34mC\u001b[0m\u001b[34mC\u001b[0m\u001b[34mC\u001b[0m\u001b[33mG\u001b[0m\u001b[32mT\u001b[0m\u001b[31mA\u001b[0m\u001b[31mA\u001b[0m\u001b[32mT\u001b[0m\u001b[33mG\u001b[0m\u001b[34mC\u001b[0m\u001b[31mA\u001b[0m\u001b[33mG\u001b[0m\u001b[31mA\u001b[0m\u001b[31mA\u001b[0m\u001b[33mG\u001b[0m\u001b[31mA\u001b[0m\u001b[31mA\u001b[0m\u001b[33mG\u001b[0m\u001b[31mA\u001b[0m\u001b[34mC\u001b[0m\u001b[34mC\u001b[0m\u001b[31mA\u001b[0m\u001b[32mT\u001b[0m\u001b[33mG\u001b[0m\u001b[33mG\u001b[0m\u001b[33mG\u001b[0m\u001b[34mC\u001b[0m\u001b[32mT\u001b[0m\u001b[33mG\u001b[0m\u001b[33mG\u001b[0m\u001b[33mG\u001b[0m\u001b[31mA\u001b[0m\u001b[33mG\u001b[0m\u001b[33mG\u001b[0m\u001b[34mC\u001b[0m\u001b[34mC\u001b[0m\u001b[32mT\u001b[0m\u001b[34mC\u001b[0m\u001b[34mC\u001b[0m\u001b[31mA\u001b[0m\u001b[34mC\u001b[0m\u001b[34mC\u001b[0m\u001b[33mG\u001b[0m\u001b[31mA\u001b[0m\u001b[33mG\u001b[0m\u001b[34mC\u001b[0m\u001b[33mG\u001b[0m\u001b[34mC\u001b[0m\u001b[34mC\u001b[0m\u001b[32mT\u001b[0m\u001b[33mG\u001b[0m\u001b[32mT\u001b[0m\u001b[31mA\u001b[0m\u001b[34mC\u001b[0m\u001b[34mC\u001b[0m\u001b[34mC\u001b[0m\u001b[34mC\u001b[0m\u001b[34mC\u001b[0m\u001b[33mG\u001b[0m\u001b[34mC\u001b[0m\u001b[33mG\u001b[0m\u001b[31mA\u001b[0m\u001b[34mC\u001b[0m\u001b[33mG\u001b[0m\u001b[33mG\u001b[0m\u001b[34mC\u001b[0m\u001b[33mG\u001b[0m\u001b[32mT\u001b[0m\u001b[33mG\u001b[0m\u001b[34mC\u001b[0m\u001b[32mT\u001b[0m\u001b[33mG\u001b[0m\u001b[31mA\u001b[0m\u001b[31mA\u001b[0m\u001b[33mG\u001b[0m\u001b[33mG\u001b[0m\u001b[33mG\u001b[0m\u001b[34mC\u001b[0m\u001b[33mG\u001b[0m\u001b[31mA\u001b[0m\u001b[33mG\u001b[0m\u001b[31mA\u001b[0m\u001b[32mT\u001b[0m\u001b[34mC\u001b[0m\u001b[34mC\u001b[0m\u001b[31mA\u001b[0m\u001b[34mC\u001b[0m\u001b[34mC\u001b[0m\u001b[31mA\u001b[0m\u001b[33mG\u001b[0m\u001b[33mG\u001b[0m\u001b[34mC\u001b[0m\u001b[34mC\u001b[0m\u001b[34mC\u001b[0m\u001b[32mT\u001b[0m\u001b[33mG\u001b[0m\u001b[31mA\u001b[0m\u001b[31mA\u001b[0m\u001b[33mG\u001b[0m\u001b[34mC\u001b[0m\u001b[32mT\u001b[0m\u001b[33mG\u001b[0m\u001b[31mA\u001b[0m\u001b[31mA\u001b[0m\u001b[33mG\u001b[0m\u001b[33mG\u001b[0m\u001b[31mA\u001b[0m\u001b[34mC\u001b[0m\u001b[33mG\u001b[0m\u001b[33mG\u001b[0m\u001b[34mC\u001b[0m\u001b[33mG\u001b[0m\u001b[33mG\u001b[0m\u001b[34mC\u001b[0m\u001b[34mC\u001b[0m\u001b[31mA\u001b[0m\u001b[34mC\u001b[0m\u001b[32mT\u001b[0m\u001b[31mA\u001b[0m\u001b[34mC\u001b[0m\u001b[34mC\u001b[0m\u001b[32mT\u001b[0m\u001b[33mG\u001b[0m\u001b[33mG\u001b[0m\u001b[32mT\u001b[0m\u001b[33mG\u001b[0m\u001b[33mG\u001b[0m\u001b[31mA\u001b[0m\u001b[33mG\u001b[0m\u001b[32mT\u001b[0m\u001b[32mT\u001b[0m\u001b[34mC\u001b[0m\u001b[31mA\u001b[0m\u001b[31mA\u001b[0m\u001b[33mG\u001b[0m\u001b[31mA\u001b[0m\u001b[34mC\u001b[0m\u001b[34mC\u001b[0m\u001b[31mA\u001b[0m\u001b[32mT\u001b[0m\u001b[34mC\u001b[0m\u001b[32mT\u001b[0m\u001b[31mA\u001b[0m\u001b[34mC\u001b[0m\u001b[31mA\u001b[0m\u001b[32mT\u001b[0m\u001b[33mG\u001b[0m\u001b[33mG\u001b[0m\u001b[34mC\u001b[0m\u001b[34mC\u001b[0m\u001b[31mA\u001b[0m\u001b[31mA\u001b[0m\u001b[33mG\u001b[0m\u001b[31mA\u001b[0m\u001b[31mA\u001b[0m\u001b[33mG\u001b[0m\u001b[34mC\u001b[0m\u001b[34mC\u001b[0m\u001b[34mC\u001b[0m\u001b[33mG\u001b[0m\u001b[32mT\u001b[0m\u001b[33mG\u001b[0m\u001b[34mC\u001b[0m\u001b[31mA\u001b[0m\u001b[31mA\u001b[0m\u001b[34mC\u001b[0m\u001b[32mT\u001b[0m\u001b[33mG\u001b[0m\u001b[34mC\u001b[0m\u001b[34mC\u001b[0m\u001b[34mC\u001b[0m\u001b[33mG\u001b[0m\u001b[33mG\u001b[0m\u001b[34mC\u001b[0m\u001b[32mT\u001b[0m\u001b[31mA\u001b[0m\u001b[34mC\u001b[0m\u001b[32mT\u001b[0m\u001b[31mA\u001b[0m\u001b[34mC\u001b[0m\u001b[32mT\u001b[0m\u001b[31mA\u001b[0m\u001b[34mC\u001b[0m\u001b[33mG\u001b[0m\u001b[32mT\u001b[0m\u001b[33mG\u001b[0m\u001b[33mG\u001b[0m\u001b[31mA\u001b[0m\u001b[34mC\u001b[0m\u001b[31mA\u001b[0m\u001b[34mC\u001b[0m\u001b[34mC\u001b[0m\u001b[31mA\u001b[0m\u001b[31mA\u001b[0m\u001b[33mG\u001b[0m\u001b[34mC\u001b[0m\u001b[32mT\u001b[0m\u001b[33mG\u001b[0m\u001b[33mG\u001b[0m\u001b[31mA\u001b[0m\u001b[34mC\u001b[0m\u001b[31mA\u001b[0m\u001b[32mT\u001b[0m\u001b[34mC\u001b[0m\u001b[31mA\u001b[0m\u001b[34mC\u001b[0m\u001b[34mC\u001b[0m\u001b[32mT\u001b[0m\u001b[34mC\u001b[0m\u001b[34mC\u001b[0m\u001b[34mC\u001b[0m\u001b[31mA\u001b[0m\u001b[34mC\u001b[0m\u001b[31mA\u001b[0m\u001b[31mA\u001b[0m\u001b[34mC\u001b[0m\u001b[33mG\u001b[0m\u001b[31mA\u001b[0m\u001b[33mG\u001b[0m\u001b[33mG\u001b[0m\u001b[31mA\u001b[0m\u001b[34mC\u001b[0m\u001b[32mT\u001b[0m\u001b[31mA\u001b[0m\u001b[34mC\u001b[0m\u001b[31mA\u001b[0m\u001b[34mC\u001b[0m\u001b[34mC\u001b[0m\u001b[31mA\u001b[0m\u001b[32mT\u001b[0m\u001b[34mC\u001b[0m\u001b[33mG\u001b[0m\u001b[32mT\u001b[0m\u001b[33mG\u001b[0m\u001b[33mG\u001b[0m\u001b[31mA\u001b[0m\u001b[31mA\u001b[0m\u001b[34mC\u001b[0m\u001b[31mA\u001b[0m\u001b[33mG\u001b[0m\u001b[32mT\u001b[0m\u001b[31mA\u001b[0m\u001b[34mC\u001b[0m\u001b[33mG\u001b[0m\u001b[31mA\u001b[0m\u001b[33mG\u001b[0m\u001b[34mC\u001b[0m\u001b[33mG\u001b[0m\u001b[34mC\u001b[0m\u001b[32mT\u001b[0m\u001b[34mC\u001b[0m\u001b[34mC\u001b[0m\u001b[33mG\u001b[0m\u001b[31mA\u001b[0m\u001b[33mG\u001b[0m\u001b[33mG\u001b[0m\u001b[33mG\u001b[0m\u001b[34mC\u001b[0m\u001b[34mC\u001b[0m\u001b[33mG\u001b[0m\u001b[34mC\u001b[0m\u001b[34mC\u001b[0m\u001b[31mA\u001b[0m\u001b[34mC\u001b[0m\u001b[34mC\u001b[0m\u001b[31mA\u001b[0m\u001b[34mC\u001b[0m\u001b[34mC\u001b[0m\u001b[32mT\u001b[0m\u001b[33mG\u001b[0m\u001b[32mT\u001b[0m\u001b[32mT\u001b[0m\u001b[34mC\u001b[0m\u001b[34mC\u001b[0m\u001b[32mT\u001b[0m\u001b[33mG\u001b[0m\u001b[32mT\u001b[0m\u001b[31mA\u001b[0m\u001b[34mC\u001b[0m\u001b[33mG\u001b[0m\u001b[33mG\u001b[0m\u001b[34mC\u001b[0m\u001b[31mA\u001b[0m\u001b[32mT\u001b[0m\u001b[33mG\u001b[0m\u001b[33mG\u001b[0m\u001b[31mA\u001b[0m\u001b[34mC\u001b[0m\u001b[33mG\u001b[0m\u001b[31mA\u001b[0m\u001b[33mG\u001b[0m\u001b[34mC\u001b[0m\u001b[32mT\u001b[0m\u001b[33mG\u001b[0m\u001b[32mT\u001b[0m\u001b[31mA\u001b[0m\u001b[34mC\u001b[0m\u001b[31mA\u001b[0m\u001b[31mA\u001b[0m\u001b[33mG\u001b[0m\u001b[32mT\u001b[0m\u001b[31mA\u001b[0m\u001b[31mA\u001b[0m\u001b[33mG\u001b[0m\u001b[31mA\u001b[0m\u001b[31mA\u001b[0m\u001b[32mT\u001b[0m\u001b[32mT\u001b[0m\u001b[34mC\u001b[0m\u001b[33mG\u001b[0m\u001b[31mA\u001b[0m\u001b[32mT\u001b[0m\u001b[31mA\u001b[0m\u001b[32mT\u001b[0m\u001b[34mC\u001b[0m\u001b[31mA\u001b[0m\u001b[31mA\u001b[0m\u001b[33mG\u001b[0m\u001b[34mC\u001b[0m\u001b[32mT\u001b[0m\u001b[32mT\u001b[0m\u001b[31mA\u001b[0m\u001b[32mT\u001b[0m\u001b[34mC\u001b[0m\u001b[33mG\u001b[0m\u001b[31mA\u001b[0m\u001b[32mT\u001b[0m\u001b[31mA\u001b[0m\u001b[31mA\u001b[0m\u001b[32mT\u001b[0m\u001b[34mC\u001b[0m\u001b[31mA\u001b[0m\u001b[31mA\u001b[0m\u001b[34mC\u001b[0m\u001b[34mC\u001b[0m\u001b[32mT\u001b[0m\u001b[34mC\u001b[0m\u001b[32mT\u001b[0m\u001b[33mG\u001b[0m\u001b[33mG\u001b[0m\u001b[31mA\u001b[0m\u001b[32mT\u001b[0m\u001b[32mT\u001b[0m\u001b[31mA\u001b[0m\u001b[34mC\u001b[0m\u001b[31mA\u001b[0m\u001b[31mA\u001b[0m\u001b[31mA\u001b[0m\u001b[31mA\u001b[0m\u001b[32mT\u001b[0m\u001b[32mT\u001b[0m\u001b[32mT\u001b[0m\u001b[33mG\u001b[0m\u001b[32mT\u001b[0m\u001b[33mG\u001b[0m\u001b[31mA\u001b[0m\u001b[31mA\u001b[0m\u001b[31mA\u001b[0m\u001b[33mG\u001b[0m\u001b[31mA\u001b[0m\u001b[32mT\u001b[0m\u001b[32mT\u001b[0m\u001b[33mG\u001b[0m\u001b[31mA\u001b[0m\u001b[34mC\u001b[0m\u001b[32mT\u001b[0m\u001b[33mG\u001b[0m\u001b[33mG\u001b[0m\u001b[32mT\u001b[0m\u001b[31mA\u001b[0m\u001b[32mT\u001b[0m\u001b[32mT\u001b[0m\u001b[34mC\u001b[0m\u001b[32mT\u001b[0m\u001b[32mT\u001b[0m\u001b[31mA\u001b[0m\u001b[31mA\u001b[0m\u001b[34mC\u001b[0m\u001b[32mT\u001b[0m\u001b[31mA\u001b[0m\u001b[32mT\u001b[0m\u001b[33mG\u001b[0m\u001b[32mT\u001b[0m\u001b[32mT\u001b[0m\u001b[33mG\u001b[0m\u001b[34mC\u001b[0m\u001b[32mT\u001b[0m\u001b[34mC\u001b[0m\u001b[34mC\u001b[0m\u001b[32mT\u001b[0m\u001b[32mT\u001b[0m\u001b[32mT\u001b[0m\u001b[32mT\u001b[0m\u001b[31mA\u001b[0m\u001b[34mC\u001b[0m\u001b[33mG\u001b[0m\u001b[34mC\u001b[0m\u001b[32mT\u001b[0m\u001b[31mA\u001b[0m\u001b[32mT\u001b[0m\u001b[33mG\u001b[0m\u001b[32mT\u001b[0m\u001b[33mG\u001b[0m\u001b[33mG\u001b[0m\u001b[31mA\u001b[0m\u001b[32mT\u001b[0m\u001b[31mA\u001b[0m\u001b[34mC\u001b[0m\u001b[33mG\u001b[0m\u001b[34mC\u001b[0m\u001b[32mT\u001b[0m\u001b[33mG\u001b[0m\u001b[34mC\u001b[0m\u001b[32mT\u001b[0m\u001b[32mT\u001b[0m\u001b[32mT\u001b[0m\u001b[31mA\u001b[0m\u001b[31mA\u001b[0m\u001b[32mT\u001b[0m\u001b[33mG\u001b[0m\u001b[34mC\u001b[0m\u001b[34mC\u001b[0m\u001b[32mT\u001b[0m\u001b[32mT\u001b[0m\u001b[32mT\u001b[0m\u001b[33mG\u001b[0m\u001b[32mT\u001b[0m\u001b[31mA\u001b[0m\u001b[32mT\u001b[0m\u001b[34mC\u001b[0m\u001b[31mA\u001b[0m\u001b[32mT\u001b[0m\u001b[33mG\u001b[0m\u001b[34mC\u001b[0m\u001b[32mT\u001b[0m\u001b[31mA\u001b[0m\u001b[32mT\u001b[0m\u001b[32mT\u001b[0m\u001b[33mG\u001b[0m\u001b[34mC\u001b[0m\u001b[32mT\u001b[0m\u001b[32mT\u001b[0m\u001b[34mC\u001b[0m\u001b[34mC\u001b[0m\u001b[34mC\u001b[0m\u001b[33mG\u001b[0m\u001b[32mT\u001b[0m\u001b[31mA\u001b[0m\u001b[32mT\u001b[0m\u001b[33mG\u001b[0m\u001b[33mG\u001b[0m\u001b[34mC\u001b[0m\u001b[32mT\u001b[0m\u001b[32mT\u001b[0m\u001b[32mT\u001b[0m\u001b[34mC\u001b[0m\u001b[31mA\u001b[0m\u001b[32mT\u001b[0m\u001b[32mT\u001b[0m\u001b[32mT\u001b[0m\u001b[32mT\u001b[0m\u001b[34mC\u001b[0m\u001b[32mT\u001b[0m\u001b[34mC\u001b[0m\u001b[34mC\u001b[0m\u001b[32mT\u001b[0m\u001b[34mC\u001b[0m\u001b[34mC\u001b[0m\u001b[32mT\u001b[0m\u001b[32mT\u001b[0m\u001b[33mG\u001b[0m\u001b[32mT\u001b[0m\u001b[31mA\u001b[0m\u001b[32mT\u001b[0m\u001b[31mA\u001b[0m\u001b[31mA\u001b[0m\u001b[31mA\u001b[0m\u001b[32mT\u001b[0m\u001b[34mC\u001b[0m\u001b[34mC\u001b[0m\u001b[32mT\u001b[0m\u001b[33mG\u001b[0m\u001b[33mG\u001b[0m\u001b[32mT\u001b[0m\u001b[32mT\u001b[0m\u001b[33mG\u001b[0m\u001b[34mC\u001b[0m\u001b[32mT\u001b[0m\u001b[33mG\u001b[0m\u001b[32mT\u001b[0m\u001b[34mC\u001b[0m\u001b[32mT\u001b[0m\u001b[34mC\u001b[0m\u001b[32mT\u001b[0m\u001b[32mT\u001b[0m\u001b[32mT\u001b[0m\u001b[31mA\u001b[0m\u001b[32mT\u001b[0m\u001b[33mG\u001b[0m\u001b[31mA\u001b[0m\u001b[33mG\u001b[0m\u001b[33mG\u001b[0m\u001b[31mA\u001b[0m\u001b[33mG\u001b[0m\u001b[32mT\u001b[0m\u001b[32mT\u001b[0m\u001b[33mG\u001b[0m\u001b[32mT\u001b[0m\u001b[33mG\u001b[0m\u001b[33mG\u001b[0m\u001b[34mC\u001b[0m\u001b[34mC\u001b[0m\u001b[34mC\u001b[0m\u001b[33mG\u001b[0m\n"
     ]
    }
   ],
   "source": [
    "from termcolor import colored\n",
    "\n",
    "def color_DNA(seq):\n",
    "    color_dict = {'A':'red','T':'green','C':'blue','G':'yellow'}\n",
    "    c_str = ''\n",
    "    for i in seq:\n",
    "        c_str += colored(i, color_dict[i])\n",
    "    return c_str\n",
    "    \n",
    "# For instance, I am going to color the PCR product of the first primer pair given above\n",
    "PCR_product = input_seq[15:1246+1]\n",
    "print(color_DNA(PCR_product))"
   ]
  },
  {
   "cell_type": "markdown",
   "metadata": {},
   "source": [
    "### References\n",
    "\n",
    "1. http://biopython.org/wiki/Documentation\n",
    "2. https://libnano.github.io/primer3-py/index.html\n",
    "3. http://stackoverflow.com/questions/35362345/python-primer3-pcr-primer-design\n",
    "4. https://pypi.python.org/pypi/termcolor\n",
    "5. https://en.wikipedia.org/wiki/Polymerase_chain_reaction\n"
   ]
  },
  {
   "cell_type": "markdown",
   "metadata": {},
   "source": [
    "### Acknowledgments\n",
    "\n",
    "I’d like to thank the whole teaching staff of CSCI E-7 Spring 2017, \n",
    "who give me such a great class to enter the world of coding. I’m\n",
    "surprised by myself, when I see how much I can do at the end of \n",
    "this semester. \n",
    "\n",
    "I’d also like to thank all other students in this class, who helped with\n",
    "each other a lot through the platform of piazza. I have learnt so \n",
    "much from the information and ideas everyone shared or discussed."
   ]
  }
 ],
 "metadata": {
  "anaconda-cloud": {},
  "kernelspec": {
   "display_name": "Python [default]",
   "language": "python",
   "name": "python3"
  },
  "language_info": {
   "codemirror_mode": {
    "name": "ipython",
    "version": 3
   },
   "file_extension": ".py",
   "mimetype": "text/x-python",
   "name": "python",
   "nbconvert_exporter": "python",
   "pygments_lexer": "ipython3",
   "version": "3.5.2"
  }
 },
 "nbformat": 4,
 "nbformat_minor": 2
}
